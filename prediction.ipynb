{
 "cells": [
  {
   "cell_type": "code",
   "execution_count": 1,
   "id": "b81e2810",
   "metadata": {},
   "outputs": [],
   "source": [
    "import pickle\n",
    "from tensorflow.keras.models import load_model\n",
    "import pandas as pd"
   ]
  },
  {
   "cell_type": "code",
   "execution_count": 2,
   "id": "c15737ae",
   "metadata": {},
   "outputs": [],
   "source": [
    "Data = {\n",
    "    \"CreditScore\" : 600,\n",
    "    \"Geography\" : \"France\",\n",
    "    'Gender' :'Female',\n",
    "    'Age' : 27,\n",
    "    'Tenure' : 3,\n",
    "    'Balance' : 1000000,\n",
    "    'NumOfProducts' : 5,\n",
    "    'HasCrCard' : 1,\n",
    "    'IsActiveMember' : 1,\n",
    "    'EstimatedSalary' : 1\n",
    "}"
   ]
  },
  {
   "cell_type": "code",
   "execution_count": 3,
   "id": "bf5d2058",
   "metadata": {},
   "outputs": [
    {
     "name": "stderr",
     "output_type": "stream",
     "text": [
      "WARNING:absl:Compiled the loaded model, but the compiled metrics have yet to be built. `model.compile_metrics` will be empty until you train or evaluate the model.\n"
     ]
    }
   ],
   "source": [
    "# Model loaded\n",
    "model = load_model('ANNModel.h5')\n",
    "\n",
    "#Loading pickle files \n",
    "with open('gender.pkl', 'rb') as file:\n",
    "    gender = pickle.load(file)\n",
    "    \n",
    "with open('geography.pkl','rb') as file:\n",
    "    geography = pickle.load(file)\n",
    "\n",
    "with open('scaler.pkl','rb') as file:\n",
    "    scaler = pickle.load(file)"
   ]
  },
  {
   "cell_type": "code",
   "execution_count": 4,
   "id": "26690db2",
   "metadata": {},
   "outputs": [],
   "source": [
    "data = pd.DataFrame([Data])\n",
    "data['Gender'] = gender.transform(data['Gender'])\n",
    "geo = pd.DataFrame(geography.transform(data[['Geography']]),columns = geography.get_feature_names_out(['Geography']))\n",
    "geo.rename(columns={'Geography_France':'France', 'Geography_Germany' : 'Germany', 'Geography_Spain' : 'Spain'},inplace = True)\n",
    "data = pd.concat([data,geo],axis =1)\n",
    "data.drop('Geography',inplace = True,axis =1 )"
   ]
  },
  {
   "cell_type": "code",
   "execution_count": 5,
   "id": "f8766c6c",
   "metadata": {},
   "outputs": [],
   "source": [
    "##Standard scaling lagana h \n",
    "#input_data = scaler.transform(data)\n",
    "#input_data\n",
    "input_data = scaler.transform(data)"
   ]
  },
  {
   "cell_type": "code",
   "execution_count": 6,
   "id": "d9a2a9ac",
   "metadata": {},
   "outputs": [
    {
     "name": "stdout",
     "output_type": "stream",
     "text": [
      "\u001b[1m1/1\u001b[0m \u001b[32m━━━━━━━━━━━━━━━━━━━━\u001b[0m\u001b[37m\u001b[0m \u001b[1m0s\u001b[0m 228ms/step\n"
     ]
    }
   ],
   "source": [
    "prediction = model.predict(input_data)\n",
    "prediction = prediction[0][0]"
   ]
  },
  {
   "cell_type": "code",
   "execution_count": 7,
   "id": "f15f25ea",
   "metadata": {},
   "outputs": [
    {
     "name": "stdout",
     "output_type": "stream",
     "text": [
      "Churn is not likely to leave the bank \n"
     ]
    }
   ],
   "source": [
    "if prediction > 0.5:\n",
    "    print(\"Churn is likely to leave the bank\")\n",
    "else :\n",
    "    print(\"Churn is not likely to leave the bank \")  "
   ]
  },
  {
   "cell_type": "code",
   "execution_count": null,
   "id": "cf5f9bf9",
   "metadata": {},
   "outputs": [],
   "source": []
  }
 ],
 "metadata": {
  "kernelspec": {
   "display_name": "ANNenv",
   "language": "python",
   "name": "python3"
  },
  "language_info": {
   "codemirror_mode": {
    "name": "ipython",
    "version": 3
   },
   "file_extension": ".py",
   "mimetype": "text/x-python",
   "name": "python",
   "nbconvert_exporter": "python",
   "pygments_lexer": "ipython3",
   "version": "3.13.0"
  }
 },
 "nbformat": 4,
 "nbformat_minor": 5
}
