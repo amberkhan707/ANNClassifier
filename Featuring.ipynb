{
 "cells": [
  {
   "cell_type": "code",
   "execution_count": 14,
   "id": "f7bb3d43",
   "metadata": {},
   "outputs": [],
   "source": [
    "import pandas as pd "
   ]
  },
  {
   "cell_type": "code",
   "execution_count": 15,
   "id": "1e401cdc",
   "metadata": {},
   "outputs": [],
   "source": [
    "data = pd.read_csv('Churn_Modelling.csv')\n",
    "data;"
   ]
  },
  {
   "cell_type": "code",
   "execution_count": 16,
   "id": "ff87d4e5",
   "metadata": {},
   "outputs": [],
   "source": [
    "data.isnull().sum();"
   ]
  },
  {
   "cell_type": "code",
   "execution_count": 17,
   "id": "c46751ee",
   "metadata": {},
   "outputs": [],
   "source": [
    "data.drop(columns = {'RowNumber','CustomerId','Surname'},inplace = True)"
   ]
  },
  {
   "cell_type": "code",
   "execution_count": 18,
   "id": "24d082f4",
   "metadata": {},
   "outputs": [
    {
     "name": "stdout",
     "output_type": "stream",
     "text": [
      "['Female' 'Male']\n",
      "['France' 'Spain' 'Germany']\n"
     ]
    }
   ],
   "source": [
    "print(data['Gender'].unique())\n",
    "print(data['Geography'].unique())"
   ]
  },
  {
   "cell_type": "code",
   "execution_count": 19,
   "id": "9fc862bc",
   "metadata": {},
   "outputs": [],
   "source": [
    "# Gender column -> we can solve by LabelEncoder \n",
    "# Geography column-> we can solve by OneHotEncoder\n",
    "\n",
    "from sklearn.preprocessing import LabelEncoder\n",
    "from sklearn.preprocessing import OneHotEncoder\n",
    "\n",
    "label_encoder = LabelEncoder()\n",
    "data['Gender'] = label_encoder.fit_transform(data['Gender'])\n",
    "\n",
    "onehot_encoder = OneHotEncoder(sparse_output=False)\n",
    "encoded = onehot_encoder.fit_transform(data[['Geography']])\n",
    "encoded = pd.DataFrame(encoded,columns = onehot_encoder.get_feature_names_out(['Geography']))\n",
    "encoded.rename(columns = {'Geography_France':'France', 'Geography_Germany':'Germany', 'Geography_Spain':'Spain'},inplace = True)\n",
    "data = pd.concat([data,encoded],axis = 1)"
   ]
  },
  {
   "cell_type": "code",
   "execution_count": 20,
   "id": "a46f4f9c",
   "metadata": {},
   "outputs": [],
   "source": [
    "import pickle\n",
    "with open('gender.pkl','wb') as file:\n",
    "    pickle.dump(label_encoder,file)\n",
    "with open('geography.pkl','wb') as file:\n",
    "    pickle.dump(onehot_encoder,file)"
   ]
  },
  {
   "cell_type": "code",
   "execution_count": 21,
   "id": "d3409173",
   "metadata": {},
   "outputs": [],
   "source": [
    "feature = data.drop(columns = ['Exited','Geography'],axis = 1)\n",
    "target = data['Exited']"
   ]
  },
  {
   "cell_type": "code",
   "execution_count": 22,
   "id": "d0674780",
   "metadata": {},
   "outputs": [],
   "source": [
    "# Splitting of the data \n",
    "from sklearn.model_selection import train_test_split\n",
    "X_train,X_test,y_train,y_test = train_test_split(feature,target,train_size=0.8,random_state=42)"
   ]
  },
  {
   "cell_type": "code",
   "execution_count": 23,
   "id": "ad5de028",
   "metadata": {},
   "outputs": [],
   "source": [
    "# We will use the scalar for giving the value equal weightage\n",
    "from sklearn.preprocessing import StandardScaler\n",
    "scaler = StandardScaler()\n",
    "X_train = scaler.fit(X_train)\n",
    "X_test = scaler.transform(X_test)"
   ]
  },
  {
   "cell_type": "code",
   "execution_count": 24,
   "id": "77c81fdc",
   "metadata": {},
   "outputs": [],
   "source": [
    "with open('scaler.pkl','wb') as file:\n",
    "    pickle.dump(scaler,file)"
   ]
  }
 ],
 "metadata": {
  "kernelspec": {
   "display_name": "ANNenv",
   "language": "python",
   "name": "python3"
  },
  "language_info": {
   "codemirror_mode": {
    "name": "ipython",
    "version": 3
   },
   "file_extension": ".py",
   "mimetype": "text/x-python",
   "name": "python",
   "nbconvert_exporter": "python",
   "pygments_lexer": "ipython3",
   "version": "3.13.0"
  }
 },
 "nbformat": 4,
 "nbformat_minor": 5
}
